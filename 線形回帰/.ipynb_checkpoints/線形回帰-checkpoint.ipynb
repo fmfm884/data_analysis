{
 "cells": [
  {
   "cell_type": "markdown",
   "id": "0df07690-5265-43e2-8966-5bb23167a702",
   "metadata": {},
   "source": [
    "# 線形回帰"
   ]
  },
  {
   "cell_type": "code",
   "execution_count": 1,
   "id": "e3ccb4d8-568b-4da1-9ae1-c5f5f8ac8762",
   "metadata": {},
   "outputs": [],
   "source": [
    "import numpy as np\n",
    "import matplotlib.pyplot as plt"
   ]
  },
  {
   "cell_type": "code",
   "execution_count": 5,
   "id": "e08b64a9-b406-48c0-803c-7d21b63fd38f",
   "metadata": {},
   "outputs": [],
   "source": [
    "# 100行1列の0~1の値\n",
    "x = np.random.rand(100, 1)"
   ]
  },
  {
   "cell_type": "code",
   "execution_count": 3,
   "id": "65384ad4-7960-4d55-b11d-cb4418ff1c82",
   "metadata": {},
   "outputs": [
    {
     "data": {
      "text/plain": [
       "array([[0.36320833],\n",
       "       [0.50485451],\n",
       "       [0.2811104 ],\n",
       "       [0.94104785],\n",
       "       [0.91617286],\n",
       "       [0.33161876],\n",
       "       [0.30421409],\n",
       "       [0.31877535],\n",
       "       [0.9652935 ],\n",
       "       [0.83397653],\n",
       "       [0.02142166],\n",
       "       [0.7283415 ],\n",
       "       [0.27408602],\n",
       "       [0.7285326 ],\n",
       "       [0.39023704],\n",
       "       [0.62069864],\n",
       "       [0.33846139],\n",
       "       [0.75434952],\n",
       "       [0.72470359],\n",
       "       [0.0293129 ],\n",
       "       [0.68708349],\n",
       "       [0.73884452],\n",
       "       [0.47660449],\n",
       "       [0.85788049],\n",
       "       [0.80459833],\n",
       "       [0.51851985],\n",
       "       [0.04054017],\n",
       "       [0.5339249 ],\n",
       "       [0.65774186],\n",
       "       [0.50622877],\n",
       "       [0.8517692 ],\n",
       "       [0.05887264],\n",
       "       [0.59962549],\n",
       "       [0.01751989],\n",
       "       [0.65880601],\n",
       "       [0.14042769],\n",
       "       [0.25269837],\n",
       "       [0.57254963],\n",
       "       [0.93076611],\n",
       "       [0.4815151 ],\n",
       "       [0.15972043],\n",
       "       [0.52752801],\n",
       "       [0.93061527],\n",
       "       [0.03572129],\n",
       "       [0.15527059],\n",
       "       [0.36002322],\n",
       "       [0.49101704],\n",
       "       [0.62885801],\n",
       "       [0.80393802],\n",
       "       [0.12094531],\n",
       "       [0.08045446],\n",
       "       [0.40577108],\n",
       "       [0.84008611],\n",
       "       [0.54350674],\n",
       "       [0.13771013],\n",
       "       [0.93915869],\n",
       "       [0.45729264],\n",
       "       [0.57010378],\n",
       "       [0.59290856],\n",
       "       [0.11759066],\n",
       "       [0.45634068],\n",
       "       [0.79385961],\n",
       "       [0.35694969],\n",
       "       [0.8074356 ],\n",
       "       [0.68465009],\n",
       "       [0.83308102],\n",
       "       [0.71917027],\n",
       "       [0.9472815 ],\n",
       "       [0.66563802],\n",
       "       [0.80309767],\n",
       "       [0.06354991],\n",
       "       [0.33415238],\n",
       "       [0.49076446],\n",
       "       [0.42837376],\n",
       "       [0.6964374 ],\n",
       "       [0.99131119],\n",
       "       [0.3789094 ],\n",
       "       [0.52205366],\n",
       "       [0.33605538],\n",
       "       [0.69151764],\n",
       "       [0.91745136],\n",
       "       [0.18593536],\n",
       "       [0.57379978],\n",
       "       [0.32584207],\n",
       "       [0.23965002],\n",
       "       [0.29054815],\n",
       "       [0.02595881],\n",
       "       [0.46237077],\n",
       "       [0.89441659],\n",
       "       [0.23492594],\n",
       "       [0.49292771],\n",
       "       [0.73739218],\n",
       "       [0.08974101],\n",
       "       [0.35238092],\n",
       "       [0.33928336],\n",
       "       [0.07845057],\n",
       "       [0.88247794],\n",
       "       [0.19540873],\n",
       "       [0.96705722],\n",
       "       [0.63344445]])"
      ]
     },
     "execution_count": 3,
     "metadata": {},
     "output_type": "execute_result"
    }
   ],
   "source": [
    "x"
   ]
  },
  {
   "cell_type": "code",
   "execution_count": 7,
   "id": "19263819-fc3c-4e0a-8c67-37e0f4a344cc",
   "metadata": {},
   "outputs": [],
   "source": [
    "# ノイズを加えて関数を定義　切片５、傾き３\n",
    "y = 5 + 3 * x + np.random.rand(100, 1)"
   ]
  },
  {
   "cell_type": "code",
   "execution_count": 8,
   "id": "f1543960-025c-47d4-8571-4fbdd1e9564a",
   "metadata": {},
   "outputs": [
    {
     "data": {
      "text/plain": [
       "<matplotlib.collections.PathCollection at 0x2bc62a08c50>"
      ]
     },
     "execution_count": 8,
     "metadata": {},
     "output_type": "execute_result"
    },
    {
     "data": {
      "image/png": "[encoded data removed]",
      "text/plain": [
       "<Figure size 432x288 with 1 Axes>"
      ]
     },
     "metadata": {
      "needs_background": "light"
     },
     "output_type": "display_data"
    }
   ],
   "source": [
    "plt.scatter(x, y)"
   ]
  },
  {
   "cell_type": "markdown",
   "id": "5d97bdfc-5a8b-4153-aaac-ee26f4419e48",
   "metadata": {},
   "source": [
    "## 解析的方法　正規方程式"
   ]
  },
  {
   "cell_type": "code",
   "execution_count": 9,
   "id": "ecbb897c-19c4-4222-9a4f-451b08036678",
   "metadata": {},
   "outputs": [],
   "source": [
    "from sklearn.linear_model import LinearRegression"
   ]
  },
  {
   "cell_type": "code",
   "execution_count": 17,
   "id": "aab10934-108f-4fb4-8b3e-29a43883a97a",
   "metadata": {},
   "outputs": [],
   "source": [
    "lin_reg = LinearRegression().fit(x, y.flatten())"
   ]
  },
  {
   "cell_type": "code",
   "execution_count": 22,
   "id": "7099f25d-3116-4749-b17d-fe8e0609f3fb",
   "metadata": {},
   "outputs": [
    {
     "data": {
      "text/plain": [
       "(5.55311086704374, array([2.80587433]))"
      ]
     },
     "execution_count": 22,
     "metadata": {},
     "output_type": "execute_result"
    }
   ],
   "source": [
    "lin_reg.intercept_, lin_reg.coef_  # 切片と傾き\n",
    "# 切片５、傾き３に近い値が取れてる！"
   ]
  },
  {
   "cell_type": "code",
   "execution_count": 23,
   "id": "4fdc2853-4137-4973-a414-1f322c70e91c",
   "metadata": {},
   "outputs": [
    {
     "data": {
      "text/plain": [
       "<matplotlib.collections.PathCollection at 0x2bc647e4fd0>"
      ]
     },
     "execution_count": 23,
     "metadata": {},
     "output_type": "execute_result"
    },
    {
     "data": {
      "image/png": "[encoded data removed]",
      "text/plain": [
       "<Figure size 432x288 with 1 Axes>"
      ]
     },
     "metadata": {
      "needs_background": "light"
     },
     "output_type": "display_data"
    }
   ],
   "source": [
    "x_new = np.array([[0], [1]])\n",
    "plt.plot(x_new, lin_reg.intercept_ + lin_reg.coef_ * x_new, c='red')\n",
    "plt.scatter(x, y)"
   ]
  },
  {
   "cell_type": "markdown",
   "id": "68b0eac6-faf1-4342-a57e-452bbcc663b4",
   "metadata": {},
   "source": [
    "## 勾配降下法"
   ]
  },
  {
   "cell_type": "code",
   "execution_count": 26,
   "id": "35d8c46b-845a-4379-9ee8-6a3cb828843a",
   "metadata": {},
   "outputs": [],
   "source": [
    "from sklearn.linear_model import SGDRegressor"
   ]
  },
  {
   "cell_type": "code",
   "execution_count": 27,
   "id": "026afee5-6df7-4228-a6bf-738659349517",
   "metadata": {},
   "outputs": [],
   "source": [
    "sgd_reg = SGDRegressor(max_iter=100).fit(x, y.flatten())"
   ]
  },
  {
   "cell_type": "code",
   "execution_count": 29,
   "id": "75530164-c14b-4bca-a44a-1e2042aa2fc4",
   "metadata": {},
   "outputs": [
    {
     "data": {
      "text/plain": [
       "(array([5.56195704]), array([2.73386084]))"
      ]
     },
     "execution_count": 29,
     "metadata": {},
     "output_type": "execute_result"
    }
   ],
   "source": [
    "sgd_reg.intercept_, sgd_reg.coef_  # 切片5,傾き3に近い！！"
   ]
  },
  {
   "cell_type": "code",
   "execution_count": 31,
   "id": "9cbc299e-853c-4d05-9448-b97bb0e19551",
   "metadata": {},
   "outputs": [
    {
     "name": "stderr",
     "output_type": "stream",
     "text": [
      "C:\\Users\\genki\\miniconda3\\envs\\mrcnn\\lib\\site-packages\\sklearn\\linear_model\\_stochastic_gradient.py:1228: ConvergenceWarning: Maximum number of iteration reached before convergence. Consider increasing max_iter to improve the fit.\n",
      "  ConvergenceWarning)\n"
     ]
    }
   ],
   "source": [
    "sgd_reg_00001 = SGDRegressor(eta0=0.0001, max_iter=100).fit(x, y.flatten()) # max_iter:epochのこと、eta0:学習率のこと"
   ]
  },
  {
   "cell_type": "code",
   "execution_count": 38,
   "id": "66747560-ab55-4243-949e-5fdf7b69d055",
   "metadata": {},
   "outputs": [
    {
     "data": {
      "text/plain": [
       "(array([0.84049454]), array([0.40856456]))"
      ]
     },
     "execution_count": 38,
     "metadata": {},
     "output_type": "execute_result"
    }
   ],
   "source": [
    "sgd_reg_00001.intercept_, sgd_reg_00001.coef_  # 全然学習ができてない、、、学習率が低すぎるため"
   ]
  },
  {
   "cell_type": "code",
   "execution_count": 36,
   "id": "bb60a904-5056-4abc-82ce-090c71a8af28",
   "metadata": {},
   "outputs": [
    {
     "data": {
      "text/plain": [
       "<matplotlib.collections.PathCollection at 0x2bc6585a198>"
      ]
     },
     "execution_count": 36,
     "metadata": {},
     "output_type": "execute_result"
    },
    {
     "data": {
      "image/png": "[encoded data removed]",
      "text/plain": [
       "<Figure size 432x288 with 1 Axes>"
      ]
     },
     "metadata": {
      "needs_background": "light"
     },
     "output_type": "display_data"
    }
   ],
   "source": [
    "plt.plot(x_new, sgd_reg_00001.intercept_ + sgd_reg.coef_ * x_new, c='red')\n",
    "plt.scatter(x, y)"
   ]
  },
  {
   "cell_type": "code",
   "execution_count": 39,
   "id": "c7e4e9d2-271c-479f-abd3-585cc2218f5d",
   "metadata": {},
   "outputs": [],
   "source": [
    "sgd_reg_100 = SGDRegressor(eta0=100, max_iter=100).fit(x, y.flatten())"
   ]
  },
  {
   "cell_type": "code",
   "execution_count": 40,
   "id": "78103cff-9439-45ba-8a68-e714d088e020",
   "metadata": {},
   "outputs": [
    {
     "data": {
      "text/plain": [
       "(array([-1.03821003e+13]), array([8.18295792e+12]))"
      ]
     },
     "execution_count": 40,
     "metadata": {},
     "output_type": "execute_result"
    }
   ],
   "source": [
    "sgd_reg_100.intercept_, sgd_reg_100.coef_"
   ]
  },
  {
   "cell_type": "code",
   "execution_count": 42,
   "id": "fb946296-6a4d-443c-9838-df29be91ba24",
   "metadata": {},
   "outputs": [
    {
     "data": {
      "text/plain": [
       "<matplotlib.collections.PathCollection at 0x2bc66cf46d8>"
      ]
     },
     "execution_count": 42,
     "metadata": {},
     "output_type": "execute_result"
    },
    {
     "data": {
      "image/png": "[encoded data removed]",
      "text/plain": [
       "<Figure size 432x288 with 1 Axes>"
      ]
     },
     "metadata": {
      "needs_background": "light"
     },
     "output_type": "display_data"
    }
   ],
   "source": [
    "plt.plot(x_new, sgd_reg_100.intercept_ + sgd_reg_100.coef_ * x_new)\n",
    "plt.scatter(x, y)"
   ]
  },
  {
   "cell_type": "code",
   "execution_count": null,
   "id": "b5cb5b13-e3d9-4def-946a-b5439659684c",
   "metadata": {},
   "outputs": [],
   "source": []
  }
 ],
 "metadata": {
  "kernelspec": {
   "display_name": "Python 3",
   "language": "python",
   "name": "python3"
  },
  "language_info": {
   "codemirror_mode": {
    "name": "ipython",
    "version": 3
   },
   "file_extension": ".py",
   "mimetype": "text/x-python",
   "name": "python",
   "nbconvert_exporter": "python",
   "pygments_lexer": "ipython3",
   "version": "3.6.13"
  },
  "widgets": {
   "application/vnd.jupyter.widget-state+json": {
    "state": {},
    "version_major": 2,
    "version_minor": 0
   }
  }
 },
 "nbformat": 4,
 "nbformat_minor": 5
}
